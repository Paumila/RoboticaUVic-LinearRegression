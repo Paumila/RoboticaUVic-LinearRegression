{
 "metadata": {
  "name": "",
  "signature": "sha256:9e67b1ccbfed15f798fe2a6e04e91036c9087ca4b05d5398405ec97ab3041676"
 },
 "nbformat": 3,
 "nbformat_minor": 0,
 "worksheets": [
  {
   "cells": [
    {
     "cell_type": "markdown",
     "metadata": {},
     "source": [
      "Today we will practice a bit using the NumPy library. To import it type: ```import numpy as np```, then the content of the library will be accessible as np.XXXX. For example np.mean().\n",
      "\n",
      "1) Create a variable **A** holding a (2, 3) array with contents:  \n",
      "```  \n",
      "[ 3 9 7,\n",
      "  1 2 8]\n",
      "```  \n",
      "Then create an identity matrix of size 5 (a matrix that has ones in the diagonal and zeros elsewhere) and assign it to variable **I**. Finally, Generate an array of shape (100, 7) with uniformly distributed random numbers between 0 and 10, assign it to varaible **M**, and print the element (92, 3) of this array. "
     ]
    },
    {
     "cell_type": "code",
     "collapsed": false,
     "input": [],
     "language": "python",
     "metadata": {},
     "outputs": [],
     "prompt_number": 0
    },
    {
     "cell_type": "markdown",
     "metadata": {},
     "source": [
      "2) Change the value of elements (0, 1) and (0, 2) in array A to 22 using a single command. Then print the contents of columns 3 to 5 for lines 30, 45 and 70 of array **M** using also a single command."
     ]
    },
    {
     "cell_type": "code",
     "collapsed": false,
     "input": [],
     "language": "python",
     "metadata": {},
     "outputs": [],
     "prompt_number": 0
    },
    {
     "cell_type": "markdown",
     "metadata": {},
     "source": [
      "3) Create a boolean array indicating which elements of M are higher than 5, assign it to variable **C**, and print it. Then, using **C**, print how many values above 5 exist in **M** with a single command. Also, print how many values above 5 are in each row of **M**, again, using a single command. Finally, use **C** to select all values above 5 in **M**. What is the shape of the returned array?"
     ]
    },
    {
     "cell_type": "code",
     "collapsed": false,
     "input": [],
     "language": "python",
     "metadata": {},
     "outputs": [],
     "prompt_number": 0
    },
    {
     "cell_type": "markdown",
     "metadata": {},
     "source": [
      "4) Create arrays **M1** containing all the columns of **M** except the last one, and and **M2** containing only the last one."
     ]
    },
    {
     "cell_type": "code",
     "collapsed": false,
     "input": [],
     "language": "python",
     "metadata": {},
     "outputs": [],
     "prompt_number": 0
    },
    {
     "cell_type": "markdown",
     "metadata": {},
     "source": [
      "5) Compute the dot product between **I** and the submatrix of **M** spanning the first five rows and columns. Then compute the dot product between the array **A** and array **B** (first you will have to define it).\n",
      "```\n",
      "B = [ 1 4,\n",
      "      9 3,\n",
      "      2 6]```"
     ]
    },
    {
     "cell_type": "code",
     "collapsed": false,
     "input": [],
     "language": "python",
     "metadata": {},
     "outputs": [],
     "prompt_number": 0
    },
    {
     "cell_type": "markdown",
     "metadata": {},
     "source": [
      "6) The function ```cdist``` (cross distances) is very useful to compute distances between a pair of sets of vectors. Read its [documentation](https://docs.scipy.org/doc/scipy/reference/generated/scipy.spatial.distance.cdist.html). Import cdist typing: ```from scipy.spatial.distance import cdist```, and use it to compute the Euclidean distance between the rows of **A** and the transposed version of **B** (i.e. the columns of **B**).  "
     ]
    },
    {
     "cell_type": "code",
     "collapsed": false,
     "input": [],
     "language": "python",
     "metadata": {},
     "outputs": [],
     "prompt_number": 0
    },
    {
     "cell_type": "markdown",
     "metadata": {},
     "source": [
      "7) The \"flattened\" version of an array consists in a 1D array with the values of the original array (typically in column-major or row-major order). Numpy provides several ways to achieve that, with functions like [*np.ravel*](https://docs.scipy.org/doc/numpy/reference/generated/numpy.ravel.html) or [*np.flatten*](https://docs.scipy.org/doc/numpy/reference/generated/numpy.ndarray.flatten.html#numpy.ndarray.flatten). Read the documentation, and print array **A** flattened in row-major (C-style) and column-major (Fortran-style) order. Another way to change the shape of an array is [*np.reshape*](https://docs.scipy.org/doc/numpy/reference/generated/numpy.reshape.html). use it to print **M** transformed in a 28 x 25 array."
     ]
    },
    {
     "cell_type": "code",
     "collapsed": false,
     "input": [],
     "language": "python",
     "metadata": {},
     "outputs": []
    },
    {
     "cell_type": "markdown",
     "metadata": {},
     "source": [
      "8) In mathematical notation, [*argmax*](https://en.wikipedia.org/wiki/Arg_max) (resp. *argmin*) is the point or set of points of the domain, or input, of some function that will maximize (resp. minimize) its output value. Analogously, Numpy provides [*np.argmax*](https://docs.scipy.org/doc/numpy/reference/generated/numpy.argmax.html) and [*np.argmin*](https://docs.scipy.org/doc/numpy/reference/generated/numpy.argmin.html) to find the position of the maximum or minimum value in an array. By default argmin/argmax will return the index for the flattened array. The additional argument ```axis``` can be added to the function call to make argmax/argmin operate along one of the dimensions of the array. Find the position of the maximum and minimum of array **A**, and also do it adding an ```axis``` parameter with array **B**. Finally, read the documentation for [*argsort*](https://docs.scipy.org/doc/numpy/reference/generated/numpy.argsort.html), test it in array **A** and print an explanation of its functionality using your own words."
     ]
    },
    {
     "cell_type": "code",
     "collapsed": false,
     "input": [],
     "language": "python",
     "metadata": {},
     "outputs": [],
     "prompt_number": 0
    },
    {
     "cell_type": "markdown",
     "metadata": {},
     "source": [
      "9) Numpy arrays are not limited to numeric types, they can also contain other types of objects like for example strings, with all the slicing and indexing functionality, and some additional [string operations](https://docs.scipy.org/doc/numpy-dev/reference/routines.char.html). Create a numpy array of DNA codons **S**:\n",
      "```\n",
      "S = ['g', 'c', 'a',\n",
      "     't', 'c', 'a',\n",
      "     'a', 't', 'a',\n",
      "     'a', 'c', 'c']\n",
      "```\n",
      "and transform it to RNA by replacing all 't' by 'u' (in a single operation) using indexing as in question 3."
     ]
    },
    {
     "cell_type": "code",
     "collapsed": false,
     "input": [],
     "language": "python",
     "metadata": {},
     "outputs": [],
     "prompt_number": 0
    },
    {
     "cell_type": "markdown",
     "metadata": {},
     "source": [
      "10) Numpy provides functions for loading and saving arrays; for example [*np.load*](https://docs.scipy.org/doc/numpy/reference/generated/numpy.load.html) and [*np.save*](https://docs.scipy.org/doc/numpy/reference/generated/numpy.save.html). A particularly useful data loading function is [*np.loadtxt*](https://docs.scipy.org/doc/numpy/reference/generated/numpy.loadtxt.html). Create a text file with these contents:\n",
      "```\n",
      "The weight (kg), height (m), max bpm, age, gender and running speed (minutes/km) of several patients identified by its ID\n",
      "65; 1.51; 130; 32; F; 5.3; H893665\n",
      "71; 1.66; 143; 38; M; 6.1; R902392\n",
      "83; 1.75; 150; 46; M; 7.2; S711421\n",
      "70; 1.71; 175; 25; M; 6.9; K634198\n",
      "69; 1.72; 129; 41; F; 5.5; P402934\n",
      "```\n",
      "read carefully the documentation for loadtxt and, in a single line of code, correctly load the contents of the file and assign each column to a different variable (7 in total: weight, height, bpm, age, gender, speed and pid)."
     ]
    },
    {
     "cell_type": "code",
     "collapsed": false,
     "input": [],
     "language": "python",
     "metadata": {},
     "outputs": [],
     "prompt_number": 0
    }
   ],
   "metadata": {}
  }
 ]
}