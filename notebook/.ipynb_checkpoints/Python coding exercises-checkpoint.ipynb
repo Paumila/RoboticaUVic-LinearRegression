{
 "cells": [
  {
   "cell_type": "markdown",
   "metadata": {},
   "source": [
    "1) Write Python code to print the following string in this specific format:  \n",
    "\n",
    "```\n",
    "Twinkle, twinkle, little star,  \n",
    "    How I wonder what you are!  \n",
    "        Up above the world so high,  \n",
    "        Like a diamond in the sky.  \n",
    "Twinkle, twinkle, little star,  \n",
    "    How I wonder what you are```"
   ]
  },
  {
   "cell_type": "code",
   "execution_count": 15,
   "metadata": {},
   "outputs": [
    {
     "name": "stdout",
     "output_type": "stream",
     "text": [
      "Twinkle, twinkle, little star,\n",
      "    How I wonder what you are!\n",
      "       Up above the world so high,\n",
      "       Like a diamond in the sky.\n",
      "Twinkle, twinkle, little star,\n",
      "    How I wonder what you are\n"
     ]
    }
   ],
   "source": [
    "string1 = 'Twinkle, twinkle, little star,'\n",
    "string2 = \"    How I wonder what you are\"\n",
    "string3 = '       Up above the world so high,'\n",
    "string4 = '       Like a diamond in the sky.'\n",
    "\n",
    "print (string1)\n",
    "print ('%s!' % string2)\n",
    "print (string3)\n",
    "print (string4)\n",
    "print (string1)\n",
    "print (string2)\n",
    "\n"
   ]
  },
  {
   "cell_type": "markdown",
   "metadata": {},
   "source": [
    "2) Write Python code that uses the radius of a circle to compute the area.  \n",
    "For example:  \n",
    "```r = 1.1\n",
    "Area = 3.8013271108436504```"
   ]
  },
  {
   "cell_type": "code",
   "execution_count": 4,
   "metadata": {},
   "outputs": [
    {
     "name": "stdout",
     "output_type": "stream",
     "text": [
      "3.8013271108436504\n"
     ]
    }
   ],
   "source": [
    "import math\n",
    "\n",
    "r = 1.1\n",
    "\n",
    "Area = math.pi*r**2\n",
    "\n",
    "print (Area)"
   ]
  },
  {
   "cell_type": "markdown",
   "metadata": {},
   "source": [
    "3) Write Python code to check the type of the elements of the following list and print only the integers."
   ]
  },
  {
   "cell_type": "code",
   "execution_count": 12,
   "metadata": {},
   "outputs": [
    {
     "name": "stdout",
     "output_type": "stream",
     "text": [
      "[3, 4, -1]\n"
     ]
    }
   ],
   "source": [
    "L = [3, 5.6, 'ab', 4, -1, (10, 3)]\n",
    "\n",
    "IntElements = [x for x in L if type(x) is int]\n",
    "\n",
    "print (IntElements)"
   ]
  },
  {
   "cell_type": "markdown",
   "metadata": {},
   "source": [
    "4) Write Python code to print the type and the length of the following sequences. Then write code to add *'z'* to each of the sequences."
   ]
  },
  {
   "cell_type": "code",
   "execution_count": 33,
   "metadata": {},
   "outputs": [
    {
     "name": "stdout",
     "output_type": "stream",
     "text": [
      "abc_list = <class 'list'> 8\n",
      "abc_tuple = <class 'tuple'> 5\n",
      "abc_string = <class 'str'> 6\n",
      "abc_set = <class 'set'> 4\n",
      "abc_list = <class 'list'> 9\n",
      "abc_tuple = <class 'tuple'> 6\n",
      "abc_string = <class 'str'> 7\n",
      "abc_set = <class 'set'> 5\n"
     ]
    }
   ],
   "source": [
    "abc_list = ['a', 'b', 'c', 'd', 'e', 'f', 'g', 'h']\n",
    "abc_tuple = ('a', 'b', 'b', 'c', 'd')\n",
    "abc_string = 'abcdef'\n",
    "abc_set = {'a', 'a', 'b', 'c', 'd'}\n",
    "\n",
    "print ('abc_list =', type(abc_list), len(abc_list))\n",
    "print ('abc_tuple =', type(abc_tuple), len(abc_tuple))\n",
    "print ('abc_string =', type(abc_string), len(abc_string))\n",
    "print ('abc_set =', type(abc_set), len(abc_set))\n",
    "\n",
    "abc_list.append ('z')\n",
    "abc_tuple += tuple('z')\n",
    "abc_string += 'z'\n",
    "abc_set.add ('z')\n",
    "\n",
    "print ('abc_list =', type(abc_list), len(abc_list))\n",
    "print ('abc_tuple =', type(abc_tuple), len(abc_tuple))\n",
    "print ('abc_string =', type(abc_string), len(abc_string))\n",
    "print ('abc_set =', type(abc_set), len(abc_set))"
   ]
  },
  {
   "cell_type": "markdown",
   "metadata": {},
   "source": [
    "5) Write Python code that prints if the values in variables **A** and **B** are in the list **L**."
   ]
  },
  {
   "cell_type": "code",
   "execution_count": 36,
   "metadata": {},
   "outputs": [
    {
     "name": "stdout",
     "output_type": "stream",
     "text": [
      "A in list: True \n",
      "B in list: False\n"
     ]
    }
   ],
   "source": [
    "A = 5\n",
    "B = 9\n",
    "L = [1,2,3,4,5,6,7,8]\n",
    "\n",
    "print ('A in list:', A in L , '\\nB in list:', B in L)"
   ]
  },
  {
   "cell_type": "markdown",
   "metadata": {},
   "source": [
    "6) Given the following lists of corresponding names and telephone numbers, create a dictionary using the names as keys and phone numbers as values."
   ]
  },
  {
   "cell_type": "code",
   "execution_count": 46,
   "metadata": {},
   "outputs": [
    {
     "name": "stdout",
     "output_type": "stream",
     "text": [
      "\n",
      " Alice number: 609341223 \n",
      " Bob number: 671094584 \n",
      " Claudia number: 612497132 \n",
      " David number: 651741924\n",
      "{'Alice': 609341223, 'Bob': 671094584, 'Claudia': 612497132, 'David': 651741924}\n"
     ]
    }
   ],
   "source": [
    "names = ['Alice', 'Bob', 'Claudia', 'David']\n",
    "phones = [609341223, 671094584, 612497132, 651741924]\n",
    "\n",
    "d = {names[0]:phones[0],names[1]:phones[1],names[2]:phones[2],names[3]:phones[3]}\n",
    "\n",
    "print ('\\n', 'Alice number:', d['Alice'],'\\n','Bob number:', d['Bob'], '\\n','Claudia number:', d['Claudia'], '\\n','David number:', d['David'])"
   ]
  },
  {
   "cell_type": "markdown",
   "metadata": {},
   "source": [
    "7) Write Python code to count the occurrences of every value in the following list."
   ]
  },
  {
   "cell_type": "code",
   "execution_count": 54,
   "metadata": {},
   "outputs": [
    {
     "name": "stdout",
     "output_type": "stream",
     "text": [
      "Counter({8: 8, 10: 7, 5: 7, 4: 7, 2: 6, 6: 5, 7: 3, 9: 3, 3: 2, 1: 2})\n"
     ]
    }
   ],
   "source": [
    "L = [10, 7, 9, 8, 10, 5, 4, 8, 5, 4, 8, 8, 4, 5, 8, 4, 7, 4, 2, 5, 4, 6, 10, 3, 9, 2, 9, 8, 6, 8, 3, 7, 5, 2, 2, 10, 2, 4,\n",
    "     10, 5, 1, 1, 10, 6, 8, 5, 6, 2, 6, 10]\n",
    "from collections import Counter\n",
    "print (Counter(L))\n"
   ]
  },
  {
   "cell_type": "markdown",
   "metadata": {},
   "source": [
    "8) Write Python code to split the following string at every comma, and print all the odd numbered sub-strings."
   ]
  },
  {
   "cell_type": "code",
   "execution_count": 61,
   "metadata": {},
   "outputs": [
    {
     "name": "stdout",
     "output_type": "stream",
     "text": [
      " you will need 4 slices bacon\n",
      " 1 large onion\n",
      " carrots and chopped tomatoes\n"
     ]
    }
   ],
   "source": [
    "text = ('To prepare Bolognese sauce, you will need 4 slices bacon, cut into 1/2 inch pieces, '\n",
    "        '1 large onion, 1 clove garlic, carrots and chopped tomatoes')\n",
    "\n",
    "for i, subs in enumerate(text.split(',')):\n",
    "    if i % 2 == 1:\n",
    "        print(subs)"
   ]
  },
  {
   "cell_type": "markdown",
   "metadata": {},
   "source": [
    "9) Write a Python function that returns the squared Euclidean distance between two vectors, and call it using variables V1 and V2."
   ]
  },
  {
   "cell_type": "code",
   "execution_count": 66,
   "metadata": {},
   "outputs": [
    {
     "name": "stdout",
     "output_type": "stream",
     "text": [
      "10.307764064044152\n"
     ]
    }
   ],
   "source": [
    "V1 = [5.6, 1.1, 3.0]\n",
    "V2 = [7.2, 9.1, 9.3]\n",
    "import math\n",
    "dV1toV2 = math.sqrt(sum([(v1-v2)**2 for v1, v2 in zip(V1, V2)]))\n",
    "print (dV1toV2)"
   ]
  },
  {
   "cell_type": "markdown",
   "metadata": {},
   "source": [
    "10) Create a text file with the following content:  \n",
    "```\n",
    "4 5 2 3.4 0 1  \n",
    "3 5 8.1 4 1 9  \n",
    "1.1 4 2 8 9.2 5  ```\n",
    "and write Python code to load it and store them as a list of lists of floats."
   ]
  },
  {
   "cell_type": "code",
   "execution_count": 67,
   "metadata": {},
   "outputs": [
    {
     "name": "stdout",
     "output_type": "stream",
     "text": [
      "[[4.0, 5.0, 2.0, 3.4, 0.0, 1.0], [3.0, 5.0, 8.1, 4.0, 1.0, 9.0], [1.1, 4.0, 2.0, 8.0, 9.2, 5.0]]\n"
     ]
    }
   ],
   "source": [
    "open('matfile.txt', 'w').write('4 5 2 3.4 0 1\\n3 5 8.1 4 1 9\\n1.1 4 2 8 9.2 5')\n",
    "matrix = [list(map(float, l.split())) for l in open('matfile.txt', 'r')]\n",
    "print(matrix)"
   ]
  },
  {
   "cell_type": "code",
   "execution_count": null,
   "metadata": {},
   "outputs": [],
   "source": []
  }
 ],
 "metadata": {
  "kernelspec": {
   "display_name": "Python 3",
   "language": "python",
   "name": "python3"
  },
  "language_info": {
   "codemirror_mode": {
    "name": "ipython",
    "version": 3
   },
   "file_extension": ".py",
   "mimetype": "text/x-python",
   "name": "python",
   "nbconvert_exporter": "python",
   "pygments_lexer": "ipython3",
   "version": "3.6.6"
  }
 },
 "nbformat": 4,
 "nbformat_minor": 2
}
