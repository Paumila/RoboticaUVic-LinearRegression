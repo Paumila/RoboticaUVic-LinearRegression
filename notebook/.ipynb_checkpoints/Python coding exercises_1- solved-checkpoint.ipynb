{
 "cells": [
  {
   "cell_type": "markdown",
   "metadata": {},
   "source": [
    "Today we will practice a bit using the NumPy library. To import it type: ```import numpy as np```, then the content of the library will be accessible as np.XXXX. For example np.mean().\n",
    "\n",
    "1) Create a variable **A** holding a (2, 3) array with contents:  \n",
    "```  \n",
    "[ 3 9 7,\n",
    "  1 2 8]\n",
    "```  \n",
    "Then create an identity matrix of size 5 (a matrix that has ones in the diagonal and zeros elsewhere) and assign it to variable **I**. Finally, Generate an array of shape (100, 7) with uniformly distributed random numbers between 0 and 10, assign it to varaible **M**, and print the element (92, 3) of this array. "
   ]
  },
  {
   "cell_type": "code",
   "execution_count": 72,
   "metadata": {},
   "outputs": [
    {
     "name": "stdout",
     "output_type": "stream",
     "text": [
      "[[3 9 7]\n",
      " [1 2 8]]\n",
      "[[ 1.  0.  0.  0.  0.]\n",
      " [ 0.  1.  0.  0.  0.]\n",
      " [ 0.  0.  1.  0.  0.]\n",
      " [ 0.  0.  0.  1.  0.]\n",
      " [ 0.  0.  0.  0.  1.]]\n",
      "(100, 7) M[92, 3] = 3.33762019609\n"
     ]
    }
   ],
   "source": [
    "import numpy as np\n",
    "A = np.array([[3, 9, 7], [1, 2, 8]]) \n",
    "print (A)\n",
    "\n",
    "I = np.eye(5)\n",
    "print (I)\n",
    "\n",
    "M = 10 * np.random.rand(100, 7)\n",
    "print (M.shape,  'M[92, 3] =', M[92, 3])"
   ]
  },
  {
   "cell_type": "markdown",
   "metadata": {},
   "source": [
    "2) Change the value of elements (0, 1) and (0, 2) in array A to 22 using a single command. Then print the contents of columns 3 to 5 for lines 30, 45 and 70 of array **M** using also a single command."
   ]
  },
  {
   "cell_type": "code",
   "execution_count": 73,
   "metadata": {},
   "outputs": [
    {
     "name": "stdout",
     "output_type": "stream",
     "text": [
      "[[ 3 22 22]\n",
      " [ 1  2  8]]\n",
      "[[ 7.58696341  5.38704414]\n",
      " [ 3.26726571  1.84597787]\n",
      " [ 0.22652517  3.35498477]]\n"
     ]
    }
   ],
   "source": [
    "A[(0, 0), (1,2)] = 22\n",
    "print (A)\n",
    "\n",
    "print(M[(30, 45, 70), 3:5])"
   ]
  },
  {
   "cell_type": "markdown",
   "metadata": {},
   "source": [
    "3) Create a boolean array indicating which elements of M are higher than 5, assign it to variable **C**, and print it. Then, using **C**, print how many values above 5 exist in **M** with a single command. Also, print how many values above 5 are in each row of **M**, again, using a single command. Finally, use **C** to select all values above 5 in **M**. What is the shape of the returned array?"
   ]
  },
  {
   "cell_type": "code",
   "execution_count": 75,
   "metadata": {},
   "outputs": [
    {
     "name": "stdout",
     "output_type": "stream",
     "text": [
      "[[ True  True  True False  True False  True]\n",
      " [ True False  True  True  True  True False]\n",
      " [False False False False False  True False]\n",
      " [ True  True False  True  True False  True]\n",
      " [ True False  True  True False False  True]\n",
      " [ True  True  True  True False False False]\n",
      " [False False  True False  True False  True]\n",
      " [False  True False False  True False False]\n",
      " [ True False  True False  True  True  True]\n",
      " [ True False False  True  True False False]\n",
      " [ True  True  True  True False False False]\n",
      " [ True False  True False False False False]\n",
      " [False  True  True False False False False]\n",
      " [False  True  True  True False  True  True]\n",
      " [False False  True  True False  True False]\n",
      " [ True False False False  True False False]\n",
      " [False False  True  True False False  True]\n",
      " [ True False  True  True  True False False]\n",
      " [False False  True False False  True  True]\n",
      " [ True False False False  True  True False]\n",
      " [ True  True False  True  True  True False]\n",
      " [ True False  True  True  True  True False]\n",
      " [False False  True  True  True  True False]\n",
      " [False  True  True  True False False  True]\n",
      " [False False  True False False False  True]\n",
      " [ True  True False  True False  True  True]\n",
      " [ True  True False  True False  True False]\n",
      " [False False  True  True  True  True False]\n",
      " [False False False False  True  True False]\n",
      " [False False False  True  True  True False]\n",
      " [False  True  True  True  True False False]\n",
      " [ True  True  True  True False  True False]\n",
      " [ True False False  True  True False  True]\n",
      " [ True  True False  True False  True False]\n",
      " [ True  True False  True False  True False]\n",
      " [False  True False  True False False False]\n",
      " [False False  True  True  True  True  True]\n",
      " [ True False False False False  True False]\n",
      " [ True  True False False False False False]\n",
      " [ True False False False False  True  True]\n",
      " [ True False  True  True False  True False]\n",
      " [False False False  True False  True False]\n",
      " [ True  True  True False  True False  True]\n",
      " [ True  True False  True  True False False]\n",
      " [False False False  True  True  True  True]\n",
      " [ True False False False False False False]\n",
      " [False  True  True False False  True  True]\n",
      " [False False False False False False  True]\n",
      " [False  True  True False  True  True  True]\n",
      " [ True  True  True  True False False False]\n",
      " [ True  True False False  True False False]\n",
      " [ True  True False  True  True  True  True]\n",
      " [ True False False  True  True  True  True]\n",
      " [ True False  True False  True  True False]\n",
      " [ True  True False  True False False False]\n",
      " [False  True False False False False False]\n",
      " [False  True  True  True False False  True]\n",
      " [ True  True  True False False False  True]\n",
      " [ True False  True False False False  True]\n",
      " [ True  True False  True False False  True]\n",
      " [False  True False  True  True  True  True]\n",
      " [ True False False  True  True  True  True]\n",
      " [ True  True  True  True False  True  True]\n",
      " [ True  True False False  True False False]\n",
      " [False  True False  True False  True False]\n",
      " [ True  True False  True False  True False]\n",
      " [False False False  True  True  True  True]\n",
      " [False False False  True  True False  True]\n",
      " [ True False  True False False False False]\n",
      " [False False  True False  True  True  True]\n",
      " [ True  True  True False False False  True]\n",
      " [False  True False  True False  True False]\n",
      " [ True False False False False False False]\n",
      " [ True False False  True  True False  True]\n",
      " [False  True  True False  True False  True]\n",
      " [False False False False False False  True]\n",
      " [ True  True  True  True False  True  True]\n",
      " [ True False  True  True  True  True  True]\n",
      " [False  True False False  True False False]\n",
      " [False False False False False  True False]\n",
      " [ True False  True False  True  True False]\n",
      " [ True False  True False  True False False]\n",
      " [False  True False False  True False False]\n",
      " [False False  True  True False  True False]\n",
      " [False  True  True False  True False  True]\n",
      " [False False False False False  True  True]\n",
      " [False  True False False False False  True]\n",
      " [False  True  True  True  True False False]\n",
      " [False False  True False False False  True]\n",
      " [ True  True False  True  True False  True]\n",
      " [ True False False False False  True  True]\n",
      " [ True False False  True False  True False]\n",
      " [ True False False False  True False  True]\n",
      " [ True  True  True  True False False  True]\n",
      " [False  True  True  True False False False]\n",
      " [False False  True  True False  True False]\n",
      " [False  True  True  True  True False  True]\n",
      " [ True False  True False  True  True  True]\n",
      " [False  True False  True False  True False]\n",
      " [False False False False False False  True]]\n",
      "348 values above 5 in M\n",
      "values above 5 per row: [5 5 1 5 4 4 3 2 5 3 4 2 2 5 3 2 3 4 3 3 5 5 4 4 2 5 4 4 2 3 4 5 4 4 4 2 5\n",
      " 2 2 3 4 2 5 4 4 1 4 1 5 4 3 6 5 4 3 1 4 4 3 4 5 5 6 3 3 4 4 3 2 4 4 3 1 4\n",
      " 4 1 6 6 2 1 4 3 2 3 4 2 2 4 2 5 3 3 3 5 3 3 5 5 3 1]\n",
      "The shape of M[C] is (348,)\n"
     ]
    }
   ],
   "source": [
    "# Since M is randomly generated, the number of elements > 5 will change every time.\n",
    "C = M > 5\n",
    "print (C)\n",
    "print (C.sum(), 'values above 5 in M')\n",
    "print ('values above 5 per row:', C.sum(1))\n",
    "print ('The shape of M[C] is', M[C].shape)"
   ]
  },
  {
   "cell_type": "markdown",
   "metadata": {},
   "source": [
    "4) Create arrays **M1** containing all the columns of **M** except the last one, and and **M2** containing only the last one."
   ]
  },
  {
   "cell_type": "code",
   "execution_count": 76,
   "metadata": {},
   "outputs": [
    {
     "name": "stdout",
     "output_type": "stream",
     "text": [
      "M1 shape (100, 6) M2 shape (100,)\n"
     ]
    }
   ],
   "source": [
    "M1 = M[:, :-1]\n",
    "M2 = M[:, -1]\n",
    "print ('M1 shape', M1.shape, 'M2 shape', M2.shape)"
   ]
  },
  {
   "cell_type": "markdown",
   "metadata": {},
   "source": [
    "5) Compute the dot product between **I** and the submatrix of **M** spanning the first five rows and columns. Then compute the dot product between the array **A** and array **B** (first you will have to define it).\n",
    "```\n",
    "B = [ 1 4,\n",
    "      9 3,\n",
    "      2 6]```"
   ]
  },
  {
   "cell_type": "code",
   "execution_count": 77,
   "metadata": {},
   "outputs": [
    {
     "name": "stdout",
     "output_type": "stream",
     "text": [
      "M[:5,:5]=\n",
      " [[ 6.33199379  7.33864329  7.0279899   1.42744212  5.66401911]\n",
      " [ 7.21890131  2.70788848  6.5620295   8.91429133  6.75929469]\n",
      " [ 4.50188671  1.96911606  0.58037161  4.68864492  0.7576065 ]\n",
      " [ 5.29551079  8.86544016  4.71688959  6.55212306  7.17432315]\n",
      " [ 7.63341506  4.61629688  5.87694095  6.75972665  0.22341089]] \n",
      "I * M[:5, :5]=\n",
      " [[ 6.33199379  7.33864329  7.0279899   1.42744212  5.66401911]\n",
      " [ 7.21890131  2.70788848  6.5620295   8.91429133  6.75929469]\n",
      " [ 4.50188671  1.96911606  0.58037161  4.68864492  0.7576065 ]\n",
      " [ 5.29551079  8.86544016  4.71688959  6.55212306  7.17432315]\n",
      " [ 7.63341506  4.61629688  5.87694095  6.75972665  0.22341089]]\n",
      "A * B =\n",
      " [[245 210]\n",
      " [ 35  58]]\n"
     ]
    }
   ],
   "source": [
    "print ('M[:5,:5]=\\n', M[:5, :5], '\\nI * M[:5, :5]=\\n', I.dot(M[:5, :5]))\n",
    "B = np.array([[1,4], [9,3], [2,6]])\n",
    "print ('A * B =\\n',A.dot(B))"
   ]
  },
  {
   "cell_type": "markdown",
   "metadata": {},
   "source": [
    "6) The function ```cdist``` (cross distances) is very useful to compute distances between a pair of sets of vectors. Read its [documentation](https://docs.scipy.org/doc/scipy/reference/generated/scipy.spatial.distance.cdist.html). Import cdist typing: ```from scipy.spatial.distance import cdist```, and use it to compute the Euclidean distance between the rows of **A** and the transposed version of **B** (i.e. the columns of **B**).  "
   ]
  },
  {
   "cell_type": "code",
   "execution_count": 78,
   "metadata": {},
   "outputs": [
    {
     "name": "stdout",
     "output_type": "stream",
     "text": [
      "[[ 23.93741841  24.85960579]\n",
      " [  9.21954446   3.74165739]]\n"
     ]
    }
   ],
   "source": [
    "from scipy.spatial.distance import cdist\n",
    "print (cdist(A, B.T, 'euclidean'))  # Actually you do not need to specify the distance type, since 'euclidean' is the default"
   ]
  },
  {
   "cell_type": "markdown",
   "metadata": {},
   "source": [
    "7) The \"flattened\" version of an array consists in a 1D array with the values of the original array (typically in column-major or row-major order). Numpy provides several ways to achieve that, with functions like [*np.ravel*](https://docs.scipy.org/doc/numpy/reference/generated/numpy.ravel.html) or [*np.flatten*](https://docs.scipy.org/doc/numpy/reference/generated/numpy.ndarray.flatten.html#numpy.ndarray.flatten). Read the documentation, and print array **A** flattened in row-major (C-style) and column-major (Fortran-style) order. Another way to change the shape of an array is [*np.reshape*](https://docs.scipy.org/doc/numpy/reference/generated/numpy.reshape.html). use it to print **M** transformed in a 28 x 25 array."
   ]
  },
  {
   "cell_type": "code",
   "execution_count": 79,
   "metadata": {},
   "outputs": [
    {
     "name": "stdout",
     "output_type": "stream",
     "text": [
      "A in C-style row-major order [ 3 22 22  1  2  8]\n",
      "A in Fortran-style column-major order [ 3  1 22  2 22  8]\n",
      "reshaped M [[  6.33199379e+00   7.33864329e+00   7.02798990e+00   1.42744212e+00\n",
      "    5.66401911e+00   4.75273115e+00   7.68651772e+00   7.21890131e+00\n",
      "    2.70788848e+00   6.56202950e+00   8.91429133e+00   6.75929469e+00\n",
      "    6.08572029e+00   4.02733913e+00   4.50188671e+00   1.96911606e+00\n",
      "    5.80371607e-01   4.68864492e+00   7.57606505e-01   8.35405292e+00\n",
      "    1.79995609e+00   5.29551079e+00   8.86544016e+00   4.71688959e+00\n",
      "    6.55212306e+00]\n",
      " [  7.17432315e+00   2.89490671e+00   8.53389095e+00   7.63341506e+00\n",
      "    4.61629688e+00   5.87694095e+00   6.75972665e+00   2.23410890e-01\n",
      "    6.80465536e-01   9.55079741e+00   8.85608864e+00   7.82856057e+00\n",
      "    8.31007159e+00   5.20008547e+00   4.22976102e-01   1.64461657e+00\n",
      "    4.08653247e+00   2.90529933e+00   9.26025093e-01   9.97750640e+00\n",
      "    6.93892020e-01   9.43118340e+00   4.95456857e+00   5.96241582e+00\n",
      "    4.71979179e+00]\n",
      " [  6.41492772e+00   1.49480272e+00   3.73632467e+00   7.76310517e+00\n",
      "    1.60024251e+00   2.53036787e+00   9.52795394e+00   4.28650998e+00\n",
      "    6.72369177e+00   4.23990747e+00   8.69550449e+00   8.81937060e+00\n",
      "    5.53853039e+00   6.40892975e+00   1.09940307e+00   8.80058155e-01\n",
      "    8.54762304e+00   6.94238902e+00   1.95252593e+00   2.20413477e+00\n",
      "    8.61375329e+00   9.90053625e+00   7.20275540e+00   9.25396428e+00\n",
      "    2.57491689e+00]\n",
      " [  1.82978668e+00   4.66492912e+00   7.24480704e+00   4.05193374e+00\n",
      "    9.12321483e+00   1.03440052e+00   4.16585797e+00   9.46475115e-01\n",
      "    4.83546930e+00   3.81109586e+00   8.03010684e+00   5.81034563e+00\n",
      "    3.77948852e+00   2.09063936e+00   7.52242554e-01   9.61388720e-01\n",
      "    2.86345651e+00   6.44834301e+00   6.42665576e+00   5.98601335e+00\n",
      "    3.14849072e+00   6.77964408e+00   5.07091996e+00   4.06229498e+00\n",
      "    1.01103338e-01]\n",
      " [  5.38918172e+00   8.37890898e+00   3.68094249e+00   6.50854484e+00\n",
      "    6.76392681e-01   7.91012345e+00   3.73785645e+00   4.38068826e+00\n",
      "    4.37138086e+00   7.37802820e+00   3.72655099e-01   1.99769984e+00\n",
      "    2.51341636e+00   3.81728789e+00   6.39451866e+00   6.22521605e+00\n",
      "    3.23581318e+00   3.20107454e-01   9.20050031e+00   8.41723945e+00\n",
      "    3.71882540e+00   9.16206924e+00   8.97861018e+00   5.94268194e+00\n",
      "    4.61667016e+00]\n",
      " [  3.76291150e+00   1.29285533e+00   8.77443211e-01   8.98810348e+00\n",
      "    4.51238438e+00   2.65944625e+00   7.64704766e+00   5.16551228e+00\n",
      "    9.17695218e+00   2.30272483e+00   3.74132209e+00   3.31810072e+00\n",
      "    6.72727064e+00   7.61576530e+00   2.04040644e+00   9.79772387e+00\n",
      "    7.15121408e+00   2.22498989e+00   7.11736469e+00   5.57775531e+00\n",
      "    5.18982451e+00   8.62722213e-01   8.54073098e+00   1.07046433e+00\n",
      "    7.74723426e+00]\n",
      " [  8.96254822e+00   9.50911810e+00   5.58029174e+00   4.86623223e+00\n",
      "    4.07137890e+00   4.64043303e+00   8.33763970e+00   9.59579833e+00\n",
      "    7.20797783e+00   7.55745743e+00   4.62424990e+00   2.55988427e+00\n",
      "    5.82044362e+00   7.44729234e+00   6.14236539e+00   1.31376710e+00\n",
      "    4.05960852e+00   5.09212268e+00   4.73309016e+00   1.07025816e+00\n",
      "    9.69601965e+00   8.27495023e-01   1.06018341e+00   2.87007045e-01\n",
      "    9.36818757e+00]\n",
      " [  7.79319722e+00   9.36032301e+00   2.20991187e+00   8.59830473e+00\n",
      "    1.91188276e-01   7.05908839e+00   6.57100992e+00   8.92280631e+00\n",
      "    6.65324470e+00   4.34386170e+00   7.94294768e+00   3.12267797e+00\n",
      "    6.59831597e+00   1.76327524e+00   3.33911713e+00   1.52304043e+00\n",
      "    5.55161097e+00   7.19023259e+00   8.79477991e+00   7.10761411e+00\n",
      "    3.63245467e+00   4.69028819e+00   2.85232784e+00   4.04732641e-01\n",
      "    3.85156725e-01]\n",
      " [  7.41218623e+00   9.75880517e+00   3.52485696e+00   2.35543291e+00\n",
      "    2.12044498e+00   2.38623837e+00   9.52467211e+00   8.97398940e+00\n",
      "    8.50463483e+00   1.00901741e+00   4.78677016e+00   9.28711304e+00\n",
      "    9.81914283e+00   7.58696341e+00   5.38704414e+00   6.07888057e-01\n",
      "    8.71357547e-01   5.79241736e+00   8.72026942e+00   5.95380161e+00\n",
      "    7.14111399e+00   3.41173461e-01   7.93213133e+00   3.13879773e+00\n",
      "    8.89307223e+00]\n",
      " [  2.77361880e+00   3.77930661e-03   5.85177626e+00   7.59527558e+00\n",
      "    4.47623233e+00   8.46519290e+00   8.08848170e+00   9.46526293e+00\n",
      "    1.61830888e-01   5.55798867e+00   2.25298365e+00   6.28370224e+00\n",
      "    3.01595023e+00   7.14446614e+00   8.10004452e+00   1.04327130e+00\n",
      "    5.52439486e+00   2.22316328e+00   5.34458771e+00   4.16518485e+00\n",
      "    2.41054473e+00   9.05621755e+00   3.16331286e+00   6.64707272e+00\n",
      "    4.17821767e+00]\n",
      " [  9.04333610e-01   1.18712205e+00   1.08919419e+00   1.57751606e+00\n",
      "    6.52922874e+00   7.42197371e+00   7.82367229e+00   9.83667559e+00\n",
      "    8.60770170e+00   7.81497646e+00   4.04279593e-01   1.28342024e+00\n",
      "    3.22497572e+00   4.75689809e+00   6.99539479e+00   2.04538337e+00\n",
      "    7.94845116e+00   9.86262052e+00   2.18979304e+00   3.36414247e-02\n",
      "    2.08594623e+00   3.78868319e+00   3.76978762e+00   8.53920740e+00\n",
      "    2.02628262e+00]\n",
      " [  2.04909889e+00   3.79129114e+00   2.18414177e+00   7.08384094e+00\n",
      "    8.18927731e+00   9.66719735e+00   6.69913256e-01   8.00569516e+00\n",
      "    6.40340938e+00   7.76259483e-02   6.47584960e+00   1.88950908e+00\n",
      "    2.76235384e+00   1.28529991e+00   3.29694859e+00   8.92072482e+00\n",
      "    2.42963233e+00   5.86491917e+00   1.65001431e+00   9.73812007e+00\n",
      "    5.30483758e+00   6.56873216e+00   4.90769966e+00   5.50989605e+00\n",
      "    4.65524205e+00]\n",
      " [  6.29614808e+00   7.39048098e+00   9.70431911e+00   4.76340217e+00\n",
      "    6.93623270e+00   9.92334342e+00   4.22588271e+00   3.89726929e+00\n",
      "    4.73842204e+00   6.26151208e-01   5.10869371e-01   6.63223161e+00\n",
      "    8.04398886e+00   5.80383963e+00   5.55300123e+00   8.25713896e+00\n",
      "    3.20182410e+00   4.54830983e+00   3.26726571e+00   1.84597787e+00\n",
      "    1.55309331e-02   3.94283049e+00   2.81924657e+00   6.56607119e+00\n",
      "    7.26903220e+00]\n",
      " [  4.86729571e-01   8.09383045e-01   5.02041296e+00   5.70443052e+00\n",
      "    1.93002710e+00   4.26229061e+00   6.40922127e-01   1.86810939e+00\n",
      "    2.53215067e+00   4.35265942e+00   8.95339748e+00   3.85567216e-01\n",
      "    6.70526146e+00   8.80404634e+00   2.77452628e+00   7.55108342e+00\n",
      "    5.17171961e+00   7.75285608e+00   5.78772424e+00   7.34256858e+00\n",
      "    5.05307971e+00   5.50430040e+00   3.51940280e+00   2.86915660e-01\n",
      "    2.69802586e+00]\n",
      " [  7.11820653e+00   9.18838716e+00   5.55932063e-01   2.02245056e+00\n",
      "    6.88661088e+00   1.43972504e+00   3.52548559e+00   5.17401648e+00\n",
      "    9.65763756e+00   4.84047141e+00   9.47502901e+00   9.30091583e+00\n",
      "    6.83987129e+00   7.75718786e+00   6.13322492e+00   3.36955332e+00\n",
      "    1.05798880e+00   9.80443831e+00   7.22297902e+00   8.23694526e+00\n",
      "    5.86509948e+00   9.82834979e+00   4.81801460e+00   5.56038514e+00\n",
      "    4.43626353e+00]\n",
      " [  5.81979725e+00   6.31236413e+00   2.75473268e+00   9.06670482e+00\n",
      "    8.23907372e+00   2.14467994e+00   9.42142462e+00   1.31982657e+00\n",
      "    4.23344952e+00   1.74349606e+00   1.28648277e-01   5.28559293e+00\n",
      "    2.75461451e+00   2.07755179e+00   8.29941101e-01   4.00129808e+00\n",
      "    8.08789788e-02   2.98975390e+00   8.16239358e+00   8.28581745e+00\n",
      "    5.53266806e+00   2.52406658e-01   6.27991809e-01   9.68347738e+00\n",
      "    8.03265121e+00]\n",
      " [  7.19178061e+00   6.82610607e+00   2.21347374e+00   6.47663546e-01\n",
      "    3.15965432e+00   7.16816105e+00   8.26406950e+00   1.41135997e+00\n",
      "    6.04026176e+00   2.45525457e+00   2.40136618e+00   2.53255566e+00\n",
      "    9.96073803e+00   9.11493798e+00   7.61422323e+00   2.83864628e+00\n",
      "    5.90335500e+00   1.37371151e+00   1.32995054e+00   7.75814016e+00\n",
      "    3.63537668e+00   9.43182357e+00   1.49570671e+00   8.29703119e+00\n",
      "    8.01625086e+00]\n",
      " [  7.83720704e+00   6.77722552e+00   9.62968486e+00   2.48017720e+00\n",
      "    4.88074734e-01   5.17696161e+00   6.17452430e+00   5.77850644e+00\n",
      "    9.76822427e+00   7.36114463e+00   6.83201570e+00   5.48389268e+00\n",
      "    9.28308177e+00   2.13641335e+00   9.62121411e+00   8.81834294e+00\n",
      "    9.96509582e+00   6.02120720e+00   4.62092670e+00   1.83215688e+00\n",
      "    9.38512941e+00   3.31117182e+00   3.28110430e+00   3.84603732e+00\n",
      "    5.49505560e+00]\n",
      " [  2.69670610e-01   8.29002884e+00   4.57105835e+00   6.36770911e+00\n",
      "    4.08645528e+00   7.28934604e+00   9.84354554e+00   1.76588435e+00\n",
      "    7.00763556e+00   5.92233182e-01   7.28050763e+00   3.34583541e+00\n",
      "    2.07834396e+00   4.76918176e+00   2.25409858e+00   6.58516927e+00\n",
      "    8.00200606e+00   7.69223421e+00   7.45875195e+00   3.49211237e+00\n",
      "    9.30420665e-01   2.78811656e+00   7.51970325e+00   5.79396617e+00\n",
      "    3.29468225e+00]\n",
      " [  9.87572019e+00   9.41920087e+00   7.53417873e-02   9.37287201e+00\n",
      "    3.95063382e+00   1.90630556e+00   4.54233419e+00   4.45955187e+00\n",
      "    2.77309108e+00   8.58337391e-01   5.39298285e+00   2.35846482e+00\n",
      "    9.69447003e+00   9.21382160e+00   6.49097014e+00   9.28167576e+00\n",
      "    8.38162471e+00   7.78756710e+00   2.26525171e-01   3.35498477e+00\n",
      "    9.20747790e-01   8.09284930e+00   5.46359458e-01   8.46583682e+00\n",
      "    3.57789233e+00]\n",
      " [  9.44857163e+00   4.80387359e+00   6.54184666e+00   1.47104351e+00\n",
      "    6.73663062e+00   2.69671139e+00   4.59510221e-01   2.33739888e+00\n",
      "    2.44730706e+00   4.02019120e+00   3.28275613e+00   6.82107734e+00\n",
      "    4.82537750e+00   4.05508283e+00   7.27586181e+00   9.91166046e+00\n",
      "    3.91712681e+00   8.19709849e+00   1.22318866e+00   5.62566414e+00\n",
      "    9.82594015e+00   5.72528764e-01   7.31331985e+00   4.40735314e+00\n",
      "    7.09063149e+00]\n",
      " [  9.11716139e-01   4.23092184e+00   3.33058191e+00   2.21897706e+00\n",
      "    3.49011791e+00   2.62303385e+00   5.96747988e+00   6.27736377e+00\n",
      "    7.16489560e+00   9.56559706e+00   5.00498709e+00   5.44003064e-01\n",
      "    7.91358168e+00   5.20707427e+00   9.26217414e+00   1.70016003e+00\n",
      "    9.35985197e+00   6.77914382e+00   9.61088758e+00   5.22442837e+00\n",
      "    8.25098795e+00   3.64457574e+00   8.55481878e+00   1.94275021e+00\n",
      "    1.42573101e-01]\n",
      " [  6.29559425e+00   2.53798608e+00   1.94135218e+00   9.04858222e-01\n",
      "    4.95765101e+00   2.38304785e+00   1.29926247e+00   4.31533129e+00\n",
      "    8.55592513e+00   4.27122294e+00   9.14474976e+00   3.08605957e+00\n",
      "    9.18546177e+00   4.35171790e-01   5.50433277e+00   8.16983519e+00\n",
      "    1.43512515e+00   5.59325523e+00   4.82176414e+00   7.11209272e+00\n",
      "    3.83262412e+00   6.38998959e+00   1.23737609e+00   3.53922147e+00\n",
      "    4.78166472e+00]\n",
      " [  9.73518881e+00   9.26830204e-01   1.49897648e+00   7.53507071e+00\n",
      "    8.89312808e-01   4.02625980e-01   2.23752531e-01   1.94824055e+00\n",
      "    9.40471966e+00   9.93313073e+00   4.87404540e+00   6.66678869e+00\n",
      "    1.78406426e+00   4.67442074e+00   8.27168107e+00   5.13772031e+00\n",
      "    2.47731762e-01   9.04931057e+00   3.51237138e+00   8.17135355e+00\n",
      "    1.22805573e+00   8.24159145e-01   2.03287118e+00   2.61742069e+00\n",
      "    8.79477541e-01]\n",
      " [  7.56677179e+00   9.84510816e+00   2.24122810e+00   7.97679255e+00\n",
      "    5.23948299e-01   4.69980062e+00   5.80150514e-01   5.73247419e-01\n",
      "    5.48300275e+00   4.41934976e-01   5.28556616e+00   6.94018700e+00\n",
      "    7.73162944e+00   8.09830376e+00   4.76491262e+00   3.30031436e+00\n",
      "    2.50409562e+00   3.98674416e+00   9.35648662e+00   3.36618591e+00\n",
      "    1.24881747e+00   8.63369851e-01   8.92840562e+00   5.36393184e+00\n",
      "    8.50345769e+00]\n",
      " [  3.79157148e+00   6.86359183e+00   5.29392030e+00   4.86833844e+00\n",
      "    9.25454438e+00   7.26849889e+00   1.99878854e+00   4.96678351e+00\n",
      "    9.71208187e-02   2.36065519e+00   7.01938217e+00   6.94581542e+00\n",
      "    7.97394159e+00   6.55287756e-01   9.24250871e-01   8.13321586e+00\n",
      "    4.38581955e+00   9.85022235e+00   7.45706128e-01   7.07067267e+00\n",
      "    4.06202121e+00   9.20026429e-01   3.33762020e+00   7.01898305e+00\n",
      "    1.53520499e+00]\n",
      " [  6.47495936e+00   6.57159147e+00   9.92925657e+00   9.62966463e+00\n",
      "    8.03354579e+00   2.84481241e+00   4.91493105e+00   6.99065090e+00\n",
      "    2.16284208e+00   9.74080775e+00   6.90020884e+00   7.97186647e+00\n",
      "    2.66069594e+00   2.50530698e+00   4.01381915e+00   6.34220220e-01\n",
      "    3.84423273e-01   7.72041902e+00   6.28139932e+00   3.73864966e-01\n",
      "    7.41872588e+00   3.91078084e+00   4.84835537e-01   9.52576979e+00\n",
      "    6.15201977e+00]\n",
      " [  5.55321841e+00   7.39355294e+00   2.41224066e+00   5.62035378e+00\n",
      "    8.44948073e+00   2.46640543e+00   5.19780865e+00   3.16656256e+00\n",
      "    7.04823359e+00   9.57827544e+00   6.49134258e+00   3.49025517e+00\n",
      "    7.12667425e+00   3.74819406e+00   8.50680877e+00   3.10099587e+00\n",
      "    7.75799732e+00   4.68950904e+00   1.11661442e+00   2.60215484e+00\n",
      "    3.04290716e+00   1.38241893e+00   1.73034262e+00   1.72875536e+00\n",
      "    9.12642099e+00]]\n"
     ]
    }
   ],
   "source": [
    "print ('A in C-style row-major order', A.flatten('C'))\n",
    "print ('A in Fortran-style column-major order', A.flatten('F'))\n",
    "print ('reshaped M', np.reshape(M, (28, 25)))"
   ]
  },
  {
   "cell_type": "markdown",
   "metadata": {},
   "source": [
    "8) In mathematical notation, [*argmax*](https://en.wikipedia.org/wiki/Arg_max) (resp. *argmin*) is the point or set of points of the domain, or input, of some function that will maximize (resp. minimize) its output value. Analogously, Numpy provides [*np.argmax*](https://docs.scipy.org/doc/numpy/reference/generated/numpy.argmax.html) and [*np.argmin*](https://docs.scipy.org/doc/numpy/reference/generated/numpy.argmin.html) to find the position of the maximum or minimum value in an array. By default argmin/argmax will return the index for the flattened array. The additional argument ```axis``` can be added to the function call to make argmax/argmin operate along one of the dimensions of the array. Find the position of the maximum and minimum of array **A**, and also do it adding an ```axis``` parameter with array **B**. Finally, read the documentation for [*argsort*](https://docs.scipy.org/doc/numpy/reference/generated/numpy.argsort.html), test it in array **A** and print an explanation of its functionality using your own words."
   ]
  },
  {
   "cell_type": "code",
   "execution_count": 80,
   "metadata": {},
   "outputs": [
    {
     "name": "stdout",
     "output_type": "stream",
     "text": [
      "argmax(A): 1 argmin(A): 3\n",
      "argmax(B,0) [1 2] argmin(B,1): [0 1 0]\n"
     ]
    }
   ],
   "source": [
    "print ('argmax(A):', np.argmax(A), 'argmin(A):', np.argmin(A))\n",
    "print ('argmax(B,0)', np.argmax(B, 0), 'argmin(B,1):', np.argmin(B, 1))  # Gives the per-column/row max/min index,\n",
    "                                                                         # with index relative to the start of the column/row\n",
    "                                                                         # (that is, the same way you use to access it)."
   ]
  },
  {
   "cell_type": "markdown",
   "metadata": {},
   "source": [
    "9) Numpy arrays are not limited to numeric types, they can also contain other types of objects like for example strings, with all the slicing and indexing functionality, and some additional [string operations](https://docs.scipy.org/doc/numpy-dev/reference/routines.char.html). Create a numpy array of DNA codons **S**:\n",
    "```\n",
    "S = ['g', 'c', 'a',\n",
    "     't', 'c', 'a',\n",
    "     'a', 't', 'a',\n",
    "     'a', 'c', 'c']\n",
    "```\n",
    "and transform it to RNA by replacing all 't' by 'u' (in a single operation) using indexing as in question 3."
   ]
  },
  {
   "cell_type": "code",
   "execution_count": 81,
   "metadata": {},
   "outputs": [
    {
     "name": "stdout",
     "output_type": "stream",
     "text": [
      "[['g' 'c' 'a']\n",
      " ['t' 'c' 'a']\n",
      " ['a' 't' 'a']\n",
      " ['a' 'c' 'c']]\n",
      "\n",
      " [['g' 'c' 'a']\n",
      " ['u' 'c' 'a']\n",
      " ['a' 'u' 'a']\n",
      " ['a' 'c' 'c']]\n"
     ]
    }
   ],
   "source": [
    "S = np.array([['g', 'c', 'a'],['t', 'c', 'a'], ['a', 't', 'a'], ['a', 'c', 'c']])\n",
    "print (S)\n",
    "S[S == 't'] = 'u'\n",
    "print ('\\n', S)"
   ]
  },
  {
   "cell_type": "markdown",
   "metadata": {},
   "source": [
    "10) Numpy provides functions for loading and saving arrays; for example [*np.load*](https://docs.scipy.org/doc/numpy/reference/generated/numpy.load.html) and [*np.save*](https://docs.scipy.org/doc/numpy/reference/generated/numpy.save.html). A particularly useful data loading function is [*np.loadtxt*](https://docs.scipy.org/doc/numpy/reference/generated/numpy.loadtxt.html). Create a text file with these contents:\n",
    "```\n",
    "The weight (kg), height (m), max bpm, age, gender and running speed (minutes/km) of several patients identified by its ID\n",
    "65; 1.51; 130; 32; F; 5.3; H893665\n",
    "71; 1.66; 143; 38; M; 6.1; R902392\n",
    "83; 1.75; 150; 46; M; 7.2; S711421\n",
    "70; 1.71; 175; 25; M; 6.9; K634198\n",
    "69; 1.72; 129; 41; F; 5.5; P402934\n",
    "```\n",
    "read carefully the documentation for loadtxt and, in a single line of code, correctly load the contents of the file and assign each column to a different variable (7 in total: weight, height, bpm, age, gender, speed and pid)."
   ]
  },
  {
   "cell_type": "code",
   "execution_count": 82,
   "metadata": {},
   "outputs": [
    {
     "name": "stdout",
     "output_type": "stream",
     "text": [
      "weight: [65.0, 71.0, 83.0, 70.0, 69.0] \n",
      "height: [1.51, 1.66, 1.75, 1.71, 1.72] \n",
      "bpm: [130.0, 143.0, 150.0, 175.0, 129.0] \n",
      "age: [32.0, 38.0, 46.0, 25.0, 41.0] \n",
      "gender: ['F' 'M' 'M' 'M' 'F'] \n",
      "speed: [5.3, 6.1, 7.2, 6.9, 5.5] \n",
      "pid: ['H893665' 'R902392' 'S711421' 'K634198' 'P402934']\n"
     ]
    }
   ],
   "source": [
    "# Because of how Python3 handles strings, this exercise became more dificult than originally intended,\n",
    "# be generous when evaluating it ;)\n",
    "\n",
    "open('textfile.txt', 'w').write('The weight (kg), height (m), max bpm, age, gender and running speed (minutes/km) of'\n",
    "                                ' several patients identified by its ID\\n65; 1.51; 130; 32; F; 5.3; H893665\\n71; 1.6'\n",
    "                                '6; 143; 38; M; 6.1; R902392\\n83; 1.75; 150; 46; M; 7.2; S711421\\n70; 1.71; 175; 25;'\n",
    "                                ' M; 6.9; K634198\\n69; 1.72; 129; 41; F; 5.5; P402934')\n",
    "weight, height, bpm, age, gender, speed, pid = np.loadtxt('textfile.txt', delimiter=';', skiprows=1, unpack=True,\n",
    "                                                          converters={0: lambda x: x, 1: lambda x: x, 2: lambda x: x,\n",
    "                                                                      3: lambda x: x, 4: lambda x: str(x).strip(\"b '\"),\n",
    "                                                                      5: lambda x: x, 6: lambda x: str(x).strip(\"b '\")},\n",
    "                                                          dtype=str)\n",
    "print ('weight:', list(map(float, weight)), '\\nheight:', list(map(float, height)), '\\nbpm:', list(map(float, bpm)),\n",
    "       '\\nage:', list(map(float, age)), '\\ngender:', gender, '\\nspeed:', list(map(float, speed)), '\\npid:', pid)"
   ]
  },
  {
   "cell_type": "code",
   "execution_count": null,
   "metadata": {},
   "outputs": [],
   "source": []
  }
 ],
 "metadata": {
  "kernelspec": {
   "display_name": "Python 3",
   "language": "python",
   "name": "python3"
  },
  "language_info": {
   "codemirror_mode": {
    "name": "ipython",
    "version": 3
   },
   "file_extension": ".py",
   "mimetype": "text/x-python",
   "name": "python",
   "nbconvert_exporter": "python",
   "pygments_lexer": "ipython3",
   "version": "3.6.6"
  }
 },
 "nbformat": 4,
 "nbformat_minor": 1
}
